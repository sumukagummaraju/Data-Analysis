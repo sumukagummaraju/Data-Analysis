{
  "nbformat": 4,
  "nbformat_minor": 0,
  "metadata": {
    "colab": {
      "name": "Celonis Task.ipynb",
      "provenance": [],
      "collapsed_sections": []
    },
    "kernelspec": {
      "name": "python3",
      "display_name": "Python 3"
    },
    "language_info": {
      "name": "python"
    }
  },
  "cells": [
    {
      "cell_type": "markdown",
      "metadata": {
        "id": "VwC-CLCk3Wc5"
      },
      "source": [
        "# **Importing the dataset**"
      ]
    },
    {
      "cell_type": "code",
      "metadata": {
        "id": "Fj8woZLJDk_b"
      },
      "source": [
        "import pandas as pd\n",
        "path = \"/content/JC-202012-citibike-tripdata.csv\"\n",
        "\n",
        "df = pd.read_csv(path)\n",
        "#df.to_csv(\"/content/new_csv.csv\", index=False)"
      ],
      "execution_count": 113,
      "outputs": []
    },
    {
      "cell_type": "markdown",
      "metadata": {
        "id": "GxPRfVXO0-qD"
      },
      "source": [
        "# **Transformations on the Dataset**"
      ]
    },
    {
      "cell_type": "code",
      "metadata": {
        "id": "YR6NeXJG-MzR"
      },
      "source": [
        "#removing latitudes and longitudes from the analysis, and adding an index to every ride completed\n",
        "df = df.drop(columns = ['start station latitude', 'start station longitude', 'end station latitude', 'end station longitude'])\n",
        "df['idx'] = range(1, len(df)+1)"
      ],
      "execution_count": 114,
      "outputs": []
    },
    {
      "cell_type": "code",
      "metadata": {
        "id": "zcpLcSTm15lf"
      },
      "source": [
        "#hour bracket for morning, evening and late night\n",
        "list_mo = list(range(6,13))\n",
        "list_ev = list(range(13,23))\n",
        "list_ln = [23,24,1,2,3,4,5]\n",
        "\n",
        "#converting the object type to datetime64 type\n",
        "df['starttime'] =  pd.to_datetime(df['starttime'])\n",
        "df['stoptime'] =  pd.to_datetime(df['stoptime'])\n",
        "# 05:00 to 21:00 are working hours and is represented by 1, and 21 onwards till 05:00 is late night, and is represented by 0\n",
        "#df['time_slot'] = df['starttime'].apply(lambda x: 1 if x.hour in range(5,22) else 0)\n",
        "df['time_slot'] = df['starttime'].apply(lambda x: \"MO\" if x.hour in list_mo else (\"EV\" if x.hour in list_ev else \"LN\"))"
      ],
      "execution_count": 115,
      "outputs": []
    },
    {
      "cell_type": "code",
      "metadata": {
        "id": "cW8SCgDkXV9z"
      },
      "source": [
        "# 0 if it is a weekday, and 1 if it is a weekend\n",
        "df['day_type'] = ((pd.DatetimeIndex(df.starttime).dayofweek) // 5 == 1).astype(int)\n",
        "df['day_type'] = df['day_type'].map({0: \"WKDY\", 1: \"WKND\"})"
      ],
      "execution_count": 116,
      "outputs": []
    },
    {
      "cell_type": "code",
      "metadata": {
        "id": "WMZLLkATXWBG"
      },
      "source": [
        "#map 0 to diverse, 1 to Male, and 2 to Female\n",
        "df['gender'] = df['gender'].map({0:'D', 1:'M', 2:'F'})"
      ],
      "execution_count": 117,
      "outputs": []
    },
    {
      "cell_type": "code",
      "metadata": {
        "id": "E3tp0zQdflc9"
      },
      "source": [
        "#converting time duration to minutes and hours\n",
        "df['td_minutes'] = round(df['tripduration']/60, 2)\n",
        "df['td_hours'] = round(df['tripduration']/3600, 2)"
      ],
      "execution_count": 118,
      "outputs": []
    },
    {
      "cell_type": "code",
      "metadata": {
        "id": "kWU7eXBRXWEZ"
      },
      "source": [
        "df['age'] = (2021 - df['birth year'])\n",
        "#creating age bins\n",
        "list_yng = list(range(18,36))\n",
        "list_mid = list(range(36,56))\n",
        "df['age_bin'] = df['age'].apply(lambda x: \"YNG\" if x in list_yng else (\"MID\" if x in list_mid else \"OLD\"))"
      ],
      "execution_count": 119,
      "outputs": []
    },
    {
      "cell_type": "code",
      "metadata": {
        "colab": {
          "base_uri": "https://localhost:8080/",
          "height": 323
        },
        "id": "_3_ntDgPbx8f",
        "outputId": "09e37224-8384-4c3a-ad77-5ea9e154668c"
      },
      "source": [
        "df =df.reindex(columns= ['idx', 'tripduration', 'td_minutes', 'td_hours', 'starttime', \n",
        "                         'stoptime', 'day_type', 'time_slot','start station id', 'start station name', 'end station id', 'end station name', \n",
        "                         'bikeid', 'usertype', 'birth year', 'age', 'age_bin', 'gender'])"
      ],
      "execution_count": 128,
      "outputs": [
        {
          "output_type": "execute_result",
          "data": {
            "text/html": [
              "<div>\n",
              "<style scoped>\n",
              "    .dataframe tbody tr th:only-of-type {\n",
              "        vertical-align: middle;\n",
              "    }\n",
              "\n",
              "    .dataframe tbody tr th {\n",
              "        vertical-align: top;\n",
              "    }\n",
              "\n",
              "    .dataframe thead th {\n",
              "        text-align: right;\n",
              "    }\n",
              "</style>\n",
              "<table border=\"1\" class=\"dataframe\">\n",
              "  <thead>\n",
              "    <tr style=\"text-align: right;\">\n",
              "      <th></th>\n",
              "      <th>idx</th>\n",
              "      <th>tripduration</th>\n",
              "      <th>td_minutes</th>\n",
              "      <th>td_hours</th>\n",
              "      <th>starttime</th>\n",
              "      <th>stoptime</th>\n",
              "      <th>day_type</th>\n",
              "      <th>time_slot</th>\n",
              "      <th>start station id</th>\n",
              "      <th>start station name</th>\n",
              "      <th>end station id</th>\n",
              "      <th>end station name</th>\n",
              "      <th>bikeid</th>\n",
              "      <th>usertype</th>\n",
              "      <th>birth year</th>\n",
              "      <th>age</th>\n",
              "      <th>age_bin</th>\n",
              "      <th>gender</th>\n",
              "    </tr>\n",
              "  </thead>\n",
              "  <tbody>\n",
              "    <tr>\n",
              "      <th>0</th>\n",
              "      <td>1</td>\n",
              "      <td>146</td>\n",
              "      <td>2.43</td>\n",
              "      <td>0.04</td>\n",
              "      <td>2020-12-01 00:02:50.145</td>\n",
              "      <td>2020-12-01 00:05:16.194</td>\n",
              "      <td>WKDY</td>\n",
              "      <td>LN</td>\n",
              "      <td>3202</td>\n",
              "      <td>Newport PATH</td>\n",
              "      <td>3199</td>\n",
              "      <td>Newport Pkwy</td>\n",
              "      <td>42308</td>\n",
              "      <td>Subscriber</td>\n",
              "      <td>1989</td>\n",
              "      <td>32</td>\n",
              "      <td>YNG</td>\n",
              "      <td>F</td>\n",
              "    </tr>\n",
              "    <tr>\n",
              "      <th>1</th>\n",
              "      <td>2</td>\n",
              "      <td>572</td>\n",
              "      <td>9.53</td>\n",
              "      <td>0.16</td>\n",
              "      <td>2020-12-01 00:11:57.391</td>\n",
              "      <td>2020-12-01 00:21:30.251</td>\n",
              "      <td>WKDY</td>\n",
              "      <td>LN</td>\n",
              "      <td>3640</td>\n",
              "      <td>Journal Square</td>\n",
              "      <td>3280</td>\n",
              "      <td>Astor Place</td>\n",
              "      <td>18568</td>\n",
              "      <td>Subscriber</td>\n",
              "      <td>1997</td>\n",
              "      <td>24</td>\n",
              "      <td>YNG</td>\n",
              "      <td>F</td>\n",
              "    </tr>\n",
              "    <tr>\n",
              "      <th>2</th>\n",
              "      <td>3</td>\n",
              "      <td>387</td>\n",
              "      <td>6.45</td>\n",
              "      <td>0.11</td>\n",
              "      <td>2020-12-01 00:14:49.361</td>\n",
              "      <td>2020-12-01 00:21:16.873</td>\n",
              "      <td>WKDY</td>\n",
              "      <td>LN</td>\n",
              "      <td>3640</td>\n",
              "      <td>Journal Square</td>\n",
              "      <td>3194</td>\n",
              "      <td>McGinley Square</td>\n",
              "      <td>44543</td>\n",
              "      <td>Subscriber</td>\n",
              "      <td>1960</td>\n",
              "      <td>61</td>\n",
              "      <td>OLD</td>\n",
              "      <td>M</td>\n",
              "    </tr>\n",
              "    <tr>\n",
              "      <th>3</th>\n",
              "      <td>4</td>\n",
              "      <td>188</td>\n",
              "      <td>3.13</td>\n",
              "      <td>0.05</td>\n",
              "      <td>2020-12-01 00:45:06.368</td>\n",
              "      <td>2020-12-01 00:48:14.428</td>\n",
              "      <td>WKDY</td>\n",
              "      <td>LN</td>\n",
              "      <td>3186</td>\n",
              "      <td>Grove St PATH</td>\n",
              "      <td>3270</td>\n",
              "      <td>Jersey &amp; 6th St</td>\n",
              "      <td>43098</td>\n",
              "      <td>Subscriber</td>\n",
              "      <td>1998</td>\n",
              "      <td>23</td>\n",
              "      <td>YNG</td>\n",
              "      <td>M</td>\n",
              "    </tr>\n",
              "    <tr>\n",
              "      <th>4</th>\n",
              "      <td>5</td>\n",
              "      <td>594</td>\n",
              "      <td>9.90</td>\n",
              "      <td>0.16</td>\n",
              "      <td>2020-12-01 01:17:17.011</td>\n",
              "      <td>2020-12-01 01:27:11.940</td>\n",
              "      <td>WKDY</td>\n",
              "      <td>LN</td>\n",
              "      <td>3212</td>\n",
              "      <td>Christ Hospital</td>\n",
              "      <td>3209</td>\n",
              "      <td>Brunswick St</td>\n",
              "      <td>44723</td>\n",
              "      <td>Subscriber</td>\n",
              "      <td>1988</td>\n",
              "      <td>33</td>\n",
              "      <td>YNG</td>\n",
              "      <td>M</td>\n",
              "    </tr>\n",
              "  </tbody>\n",
              "</table>\n",
              "</div>"
            ],
            "text/plain": [
              "   idx  tripduration  td_minutes  td_hours  ... birth year age age_bin gender\n",
              "0    1           146        2.43      0.04  ...       1989  32     YNG      F\n",
              "1    2           572        9.53      0.16  ...       1997  24     YNG      F\n",
              "2    3           387        6.45      0.11  ...       1960  61     OLD      M\n",
              "3    4           188        3.13      0.05  ...       1998  23     YNG      M\n",
              "4    5           594        9.90      0.16  ...       1988  33     YNG      M\n",
              "\n",
              "[5 rows x 18 columns]"
            ]
          },
          "metadata": {
            "tags": []
          },
          "execution_count": 128
        }
      ]
    },
    {
      "cell_type": "code",
      "metadata": {
        "id": "Hwa6KglB4PVM"
      },
      "source": [
        "df.head()"
      ],
      "execution_count": 127,
      "outputs": []
    },
    {
      "cell_type": "code",
      "metadata": {
        "colab": {
          "base_uri": "https://localhost:8080/"
        },
        "id": "UF1AbNkV1kDJ",
        "outputId": "cb9274fb-b329-485c-f6b0-a79be5c7fafc"
      },
      "source": [
        "len(df)"
      ],
      "execution_count": 121,
      "outputs": [
        {
          "output_type": "execute_result",
          "data": {
            "text/plain": [
              "11694"
            ]
          },
          "metadata": {
            "tags": []
          },
          "execution_count": 121
        }
      ]
    },
    {
      "cell_type": "markdown",
      "metadata": {
        "id": "ZHMCDDhop76i"
      },
      "source": [
        "# **Filtering the top 2 rows which seem to have an extremely high Trip Duration**\n"
      ]
    },
    {
      "cell_type": "code",
      "metadata": {
        "id": "o120_GUPJGJU"
      },
      "source": [
        "df = df[df.tripduration != 2068550]"
      ],
      "execution_count": 122,
      "outputs": []
    },
    {
      "cell_type": "code",
      "metadata": {
        "id": "UvjA3chu1FjF"
      },
      "source": [
        "df = df[df.tripduration != 2056977]"
      ],
      "execution_count": 123,
      "outputs": []
    },
    {
      "cell_type": "code",
      "metadata": {
        "colab": {
          "base_uri": "https://localhost:8080/",
          "height": 66
        },
        "id": "e65qBQrZwrVE",
        "outputId": "c8638f96-4d50-4998-8e48-9dd6b5962250"
      },
      "source": [
        "df.loc[(df['tripduration'] == 2056977 ), :]\n"
      ],
      "execution_count": 124,
      "outputs": [
        {
          "output_type": "execute_result",
          "data": {
            "text/html": [
              "<div>\n",
              "<style scoped>\n",
              "    .dataframe tbody tr th:only-of-type {\n",
              "        vertical-align: middle;\n",
              "    }\n",
              "\n",
              "    .dataframe tbody tr th {\n",
              "        vertical-align: top;\n",
              "    }\n",
              "\n",
              "    .dataframe thead th {\n",
              "        text-align: right;\n",
              "    }\n",
              "</style>\n",
              "<table border=\"1\" class=\"dataframe\">\n",
              "  <thead>\n",
              "    <tr style=\"text-align: right;\">\n",
              "      <th></th>\n",
              "      <th>tripduration</th>\n",
              "      <th>starttime</th>\n",
              "      <th>stoptime</th>\n",
              "      <th>start station id</th>\n",
              "      <th>start station name</th>\n",
              "      <th>end station id</th>\n",
              "      <th>end station name</th>\n",
              "      <th>bikeid</th>\n",
              "      <th>usertype</th>\n",
              "      <th>birth year</th>\n",
              "      <th>gender</th>\n",
              "      <th>idx</th>\n",
              "      <th>time_slot</th>\n",
              "      <th>day_type</th>\n",
              "      <th>td_minutes</th>\n",
              "      <th>td_hours</th>\n",
              "      <th>age</th>\n",
              "      <th>age_bin</th>\n",
              "    </tr>\n",
              "  </thead>\n",
              "  <tbody>\n",
              "  </tbody>\n",
              "</table>\n",
              "</div>"
            ],
            "text/plain": [
              "Empty DataFrame\n",
              "Columns: [tripduration, starttime, stoptime, start station id, start station name, end station id, end station name, bikeid, usertype, birth year, gender, idx, time_slot, day_type, td_minutes, td_hours, age, age_bin]\n",
              "Index: []"
            ]
          },
          "metadata": {
            "tags": []
          },
          "execution_count": 124
        }
      ]
    },
    {
      "cell_type": "code",
      "metadata": {
        "id": "JEafXA4rJtGU"
      },
      "source": [
        "#export csv for further data analysis\n",
        "df.to_csv(\"/content/citi202012.csv\", index=False)"
      ],
      "execution_count": 129,
      "outputs": []
    },
    {
      "cell_type": "markdown",
      "metadata": {
        "id": "uK2KoEmA2NOA"
      },
      "source": [
        "# **Getting a statistical distribution of every column of the dataset**"
      ]
    },
    {
      "cell_type": "code",
      "metadata": {
        "colab": {
          "base_uri": "https://localhost:8080/",
          "height": 625
        },
        "id": "VGKvNwxITZKl",
        "outputId": "c80a1212-cf18-48d4-c5b8-0b2ea24524e9"
      },
      "source": [
        "df.describe(include=\"all\")"
      ],
      "execution_count": 126,
      "outputs": [
        {
          "output_type": "stream",
          "text": [
            "/usr/local/lib/python3.7/dist-packages/ipykernel_launcher.py:1: FutureWarning: Treating datetime data as categorical rather than numeric in `.describe` is deprecated and will be removed in a future version of pandas. Specify `datetime_is_numeric=True` to silence this warning and adopt the future behavior now.\n",
            "  \"\"\"Entry point for launching an IPython kernel.\n",
            "/usr/local/lib/python3.7/dist-packages/ipykernel_launcher.py:1: FutureWarning: Treating datetime data as categorical rather than numeric in `.describe` is deprecated and will be removed in a future version of pandas. Specify `datetime_is_numeric=True` to silence this warning and adopt the future behavior now.\n",
            "  \"\"\"Entry point for launching an IPython kernel.\n"
          ],
          "name": "stderr"
        },
        {
          "output_type": "execute_result",
          "data": {
            "text/html": [
              "<div>\n",
              "<style scoped>\n",
              "    .dataframe tbody tr th:only-of-type {\n",
              "        vertical-align: middle;\n",
              "    }\n",
              "\n",
              "    .dataframe tbody tr th {\n",
              "        vertical-align: top;\n",
              "    }\n",
              "\n",
              "    .dataframe thead th {\n",
              "        text-align: right;\n",
              "    }\n",
              "</style>\n",
              "<table border=\"1\" class=\"dataframe\">\n",
              "  <thead>\n",
              "    <tr style=\"text-align: right;\">\n",
              "      <th></th>\n",
              "      <th>tripduration</th>\n",
              "      <th>starttime</th>\n",
              "      <th>stoptime</th>\n",
              "      <th>start station id</th>\n",
              "      <th>start station name</th>\n",
              "      <th>end station id</th>\n",
              "      <th>end station name</th>\n",
              "      <th>bikeid</th>\n",
              "      <th>usertype</th>\n",
              "      <th>birth year</th>\n",
              "      <th>gender</th>\n",
              "      <th>idx</th>\n",
              "      <th>time_slot</th>\n",
              "      <th>day_type</th>\n",
              "      <th>td_minutes</th>\n",
              "      <th>td_hours</th>\n",
              "      <th>age</th>\n",
              "      <th>age_bin</th>\n",
              "    </tr>\n",
              "  </thead>\n",
              "  <tbody>\n",
              "    <tr>\n",
              "      <th>count</th>\n",
              "      <td>11692.000000</td>\n",
              "      <td>11692</td>\n",
              "      <td>11692</td>\n",
              "      <td>11692.000000</td>\n",
              "      <td>11692</td>\n",
              "      <td>11692.000000</td>\n",
              "      <td>11692</td>\n",
              "      <td>11692.000000</td>\n",
              "      <td>11692</td>\n",
              "      <td>11692.000000</td>\n",
              "      <td>11692</td>\n",
              "      <td>11692.000000</td>\n",
              "      <td>11692</td>\n",
              "      <td>11692</td>\n",
              "      <td>11692.000000</td>\n",
              "      <td>11692.000000</td>\n",
              "      <td>11692.000000</td>\n",
              "      <td>11692</td>\n",
              "    </tr>\n",
              "    <tr>\n",
              "      <th>unique</th>\n",
              "      <td>NaN</td>\n",
              "      <td>11692</td>\n",
              "      <td>11692</td>\n",
              "      <td>NaN</td>\n",
              "      <td>51</td>\n",
              "      <td>NaN</td>\n",
              "      <td>58</td>\n",
              "      <td>NaN</td>\n",
              "      <td>2</td>\n",
              "      <td>NaN</td>\n",
              "      <td>3</td>\n",
              "      <td>NaN</td>\n",
              "      <td>3</td>\n",
              "      <td>2</td>\n",
              "      <td>NaN</td>\n",
              "      <td>NaN</td>\n",
              "      <td>NaN</td>\n",
              "      <td>3</td>\n",
              "    </tr>\n",
              "    <tr>\n",
              "      <th>top</th>\n",
              "      <td>NaN</td>\n",
              "      <td>2020-12-08 08:20:29.472000</td>\n",
              "      <td>2020-12-27 16:25:03.481000</td>\n",
              "      <td>NaN</td>\n",
              "      <td>Grove St PATH</td>\n",
              "      <td>NaN</td>\n",
              "      <td>Grove St PATH</td>\n",
              "      <td>NaN</td>\n",
              "      <td>Subscriber</td>\n",
              "      <td>NaN</td>\n",
              "      <td>M</td>\n",
              "      <td>NaN</td>\n",
              "      <td>EV</td>\n",
              "      <td>WKDY</td>\n",
              "      <td>NaN</td>\n",
              "      <td>NaN</td>\n",
              "      <td>NaN</td>\n",
              "      <td>MID</td>\n",
              "    </tr>\n",
              "    <tr>\n",
              "      <th>freq</th>\n",
              "      <td>NaN</td>\n",
              "      <td>1</td>\n",
              "      <td>1</td>\n",
              "      <td>NaN</td>\n",
              "      <td>776</td>\n",
              "      <td>NaN</td>\n",
              "      <td>933</td>\n",
              "      <td>NaN</td>\n",
              "      <td>9404</td>\n",
              "      <td>NaN</td>\n",
              "      <td>7765</td>\n",
              "      <td>NaN</td>\n",
              "      <td>7344</td>\n",
              "      <td>8654</td>\n",
              "      <td>NaN</td>\n",
              "      <td>NaN</td>\n",
              "      <td>NaN</td>\n",
              "      <td>5362</td>\n",
              "    </tr>\n",
              "    <tr>\n",
              "      <th>first</th>\n",
              "      <td>NaN</td>\n",
              "      <td>2020-12-01 00:02:50.145000</td>\n",
              "      <td>2020-12-01 00:05:16.194000</td>\n",
              "      <td>NaN</td>\n",
              "      <td>NaN</td>\n",
              "      <td>NaN</td>\n",
              "      <td>NaN</td>\n",
              "      <td>NaN</td>\n",
              "      <td>NaN</td>\n",
              "      <td>NaN</td>\n",
              "      <td>NaN</td>\n",
              "      <td>NaN</td>\n",
              "      <td>NaN</td>\n",
              "      <td>NaN</td>\n",
              "      <td>NaN</td>\n",
              "      <td>NaN</td>\n",
              "      <td>NaN</td>\n",
              "      <td>NaN</td>\n",
              "    </tr>\n",
              "    <tr>\n",
              "      <th>last</th>\n",
              "      <td>NaN</td>\n",
              "      <td>2020-12-31 23:48:34.575000</td>\n",
              "      <td>2021-01-02 17:29:34.116000</td>\n",
              "      <td>NaN</td>\n",
              "      <td>NaN</td>\n",
              "      <td>NaN</td>\n",
              "      <td>NaN</td>\n",
              "      <td>NaN</td>\n",
              "      <td>NaN</td>\n",
              "      <td>NaN</td>\n",
              "      <td>NaN</td>\n",
              "      <td>NaN</td>\n",
              "      <td>NaN</td>\n",
              "      <td>NaN</td>\n",
              "      <td>NaN</td>\n",
              "      <td>NaN</td>\n",
              "      <td>NaN</td>\n",
              "      <td>NaN</td>\n",
              "    </tr>\n",
              "    <tr>\n",
              "      <th>mean</th>\n",
              "      <td>1035.121023</td>\n",
              "      <td>NaN</td>\n",
              "      <td>NaN</td>\n",
              "      <td>3306.193295</td>\n",
              "      <td>NaN</td>\n",
              "      <td>3304.354687</td>\n",
              "      <td>NaN</td>\n",
              "      <td>41614.209545</td>\n",
              "      <td>NaN</td>\n",
              "      <td>1980.760691</td>\n",
              "      <td>NaN</td>\n",
              "      <td>5847.930807</td>\n",
              "      <td>NaN</td>\n",
              "      <td>NaN</td>\n",
              "      <td>17.252002</td>\n",
              "      <td>0.287546</td>\n",
              "      <td>40.239309</td>\n",
              "      <td>NaN</td>\n",
              "    </tr>\n",
              "    <tr>\n",
              "      <th>std</th>\n",
              "      <td>8356.091227</td>\n",
              "      <td>NaN</td>\n",
              "      <td>NaN</td>\n",
              "      <td>181.918615</td>\n",
              "      <td>NaN</td>\n",
              "      <td>187.598111</td>\n",
              "      <td>NaN</td>\n",
              "      <td>5917.454040</td>\n",
              "      <td>NaN</td>\n",
              "      <td>11.416765</td>\n",
              "      <td>NaN</td>\n",
              "      <td>3376.014799</td>\n",
              "      <td>NaN</td>\n",
              "      <td>NaN</td>\n",
              "      <td>139.268171</td>\n",
              "      <td>2.321092</td>\n",
              "      <td>11.416765</td>\n",
              "      <td>NaN</td>\n",
              "    </tr>\n",
              "    <tr>\n",
              "      <th>min</th>\n",
              "      <td>61.000000</td>\n",
              "      <td>NaN</td>\n",
              "      <td>NaN</td>\n",
              "      <td>3184.000000</td>\n",
              "      <td>NaN</td>\n",
              "      <td>127.000000</td>\n",
              "      <td>NaN</td>\n",
              "      <td>14536.000000</td>\n",
              "      <td>NaN</td>\n",
              "      <td>1947.000000</td>\n",
              "      <td>NaN</td>\n",
              "      <td>1.000000</td>\n",
              "      <td>NaN</td>\n",
              "      <td>NaN</td>\n",
              "      <td>1.020000</td>\n",
              "      <td>0.020000</td>\n",
              "      <td>18.000000</td>\n",
              "      <td>NaN</td>\n",
              "    </tr>\n",
              "    <tr>\n",
              "      <th>25%</th>\n",
              "      <td>292.000000</td>\n",
              "      <td>NaN</td>\n",
              "      <td>NaN</td>\n",
              "      <td>3195.000000</td>\n",
              "      <td>NaN</td>\n",
              "      <td>3195.000000</td>\n",
              "      <td>NaN</td>\n",
              "      <td>41703.000000</td>\n",
              "      <td>NaN</td>\n",
              "      <td>1969.000000</td>\n",
              "      <td>NaN</td>\n",
              "      <td>2924.750000</td>\n",
              "      <td>NaN</td>\n",
              "      <td>NaN</td>\n",
              "      <td>4.870000</td>\n",
              "      <td>0.080000</td>\n",
              "      <td>31.000000</td>\n",
              "      <td>NaN</td>\n",
              "    </tr>\n",
              "    <tr>\n",
              "      <th>50%</th>\n",
              "      <td>484.000000</td>\n",
              "      <td>NaN</td>\n",
              "      <td>NaN</td>\n",
              "      <td>3211.000000</td>\n",
              "      <td>NaN</td>\n",
              "      <td>3211.000000</td>\n",
              "      <td>NaN</td>\n",
              "      <td>42580.000000</td>\n",
              "      <td>NaN</td>\n",
              "      <td>1984.000000</td>\n",
              "      <td>NaN</td>\n",
              "      <td>5848.500000</td>\n",
              "      <td>NaN</td>\n",
              "      <td>NaN</td>\n",
              "      <td>8.070000</td>\n",
              "      <td>0.130000</td>\n",
              "      <td>37.000000</td>\n",
              "      <td>NaN</td>\n",
              "    </tr>\n",
              "    <tr>\n",
              "      <th>75%</th>\n",
              "      <td>883.250000</td>\n",
              "      <td>NaN</td>\n",
              "      <td>NaN</td>\n",
              "      <td>3276.000000</td>\n",
              "      <td>NaN</td>\n",
              "      <td>3276.000000</td>\n",
              "      <td>NaN</td>\n",
              "      <td>44911.000000</td>\n",
              "      <td>NaN</td>\n",
              "      <td>1990.000000</td>\n",
              "      <td>NaN</td>\n",
              "      <td>8771.250000</td>\n",
              "      <td>NaN</td>\n",
              "      <td>NaN</td>\n",
              "      <td>14.722500</td>\n",
              "      <td>0.250000</td>\n",
              "      <td>52.000000</td>\n",
              "      <td>NaN</td>\n",
              "    </tr>\n",
              "    <tr>\n",
              "      <th>max</th>\n",
              "      <td>674294.000000</td>\n",
              "      <td>NaN</td>\n",
              "      <td>NaN</td>\n",
              "      <td>3792.000000</td>\n",
              "      <td>NaN</td>\n",
              "      <td>4071.000000</td>\n",
              "      <td>NaN</td>\n",
              "      <td>49734.000000</td>\n",
              "      <td>NaN</td>\n",
              "      <td>2003.000000</td>\n",
              "      <td>NaN</td>\n",
              "      <td>11694.000000</td>\n",
              "      <td>NaN</td>\n",
              "      <td>NaN</td>\n",
              "      <td>11238.230000</td>\n",
              "      <td>187.300000</td>\n",
              "      <td>74.000000</td>\n",
              "      <td>NaN</td>\n",
              "    </tr>\n",
              "  </tbody>\n",
              "</table>\n",
              "</div>"
            ],
            "text/plain": [
              "         tripduration                   starttime  ...           age  age_bin\n",
              "count    11692.000000                       11692  ...  11692.000000    11692\n",
              "unique            NaN                       11692  ...           NaN        3\n",
              "top               NaN  2020-12-08 08:20:29.472000  ...           NaN      MID\n",
              "freq              NaN                           1  ...           NaN     5362\n",
              "first             NaN  2020-12-01 00:02:50.145000  ...           NaN      NaN\n",
              "last              NaN  2020-12-31 23:48:34.575000  ...           NaN      NaN\n",
              "mean      1035.121023                         NaN  ...     40.239309      NaN\n",
              "std       8356.091227                         NaN  ...     11.416765      NaN\n",
              "min         61.000000                         NaN  ...     18.000000      NaN\n",
              "25%        292.000000                         NaN  ...     31.000000      NaN\n",
              "50%        484.000000                         NaN  ...     37.000000      NaN\n",
              "75%        883.250000                         NaN  ...     52.000000      NaN\n",
              "max     674294.000000                         NaN  ...     74.000000      NaN\n",
              "\n",
              "[13 rows x 18 columns]"
            ]
          },
          "metadata": {
            "tags": []
          },
          "execution_count": 126
        }
      ]
    },
    {
      "cell_type": "markdown",
      "metadata": {
        "id": "J72VLXVRCbmC"
      },
      "source": [
        "# **The Total Number of Rides for the month of December**"
      ]
    },
    {
      "cell_type": "code",
      "metadata": {
        "colab": {
          "base_uri": "https://localhost:8080/"
        },
        "id": "6U7zDqzCCgRr",
        "outputId": "e56c27f4-ebd4-4745-9b36-1f6411f83d11"
      },
      "source": [
        "len(df)"
      ],
      "execution_count": null,
      "outputs": [
        {
          "output_type": "execute_result",
          "data": {
            "text/plain": [
              "11694"
            ]
          },
          "metadata": {
            "tags": []
          },
          "execution_count": 36
        }
      ]
    },
    {
      "cell_type": "markdown",
      "metadata": {
        "id": "nDfAATv90hwR"
      },
      "source": [
        "# **Details based on Start and End Station**"
      ]
    },
    {
      "cell_type": "code",
      "metadata": {
        "colab": {
          "base_uri": "https://localhost:8080/",
          "height": 674
        },
        "id": "3M8cUkwM6xEM",
        "outputId": "f67a1091-871e-4a40-9886-fa91929ef065"
      },
      "source": [
        "print(\"Example Start Stations: Brunswick St, Newport PATH, Journal Square, Grove St PATH \")\n",
        "print(\"Exmaple End Stations: Newport Pkwy, Astor Place, McGinley Square, Jersey & 6th St\")\n",
        "start_station = input(\"Enter the start station: \")\n",
        "end_station = input(\"Enter the end station: \")\n",
        "df.loc[(df['start station name'] == start_station) & (df['end station name']== end_station) , :]"
      ],
      "execution_count": 54,
      "outputs": [
        {
          "output_type": "stream",
          "text": [
            "Example Start Stations: Brunswick St, Newport PATH, Journal Square, Grove St PATH \n",
            "Exmaple End Stations: Newport Pkwy, Astor Place, McGinley Square, Jersey & 6th St\n",
            "Enter the start station: Newport Pkwy\n",
            "Enter the end station: Newport Pkwy\n"
          ],
          "name": "stdout"
        },
        {
          "output_type": "execute_result",
          "data": {
            "text/html": [
              "<div>\n",
              "<style scoped>\n",
              "    .dataframe tbody tr th:only-of-type {\n",
              "        vertical-align: middle;\n",
              "    }\n",
              "\n",
              "    .dataframe tbody tr th {\n",
              "        vertical-align: top;\n",
              "    }\n",
              "\n",
              "    .dataframe thead th {\n",
              "        text-align: right;\n",
              "    }\n",
              "</style>\n",
              "<table border=\"1\" class=\"dataframe\">\n",
              "  <thead>\n",
              "    <tr style=\"text-align: right;\">\n",
              "      <th></th>\n",
              "      <th>tripduration</th>\n",
              "      <th>starttime</th>\n",
              "      <th>stoptime</th>\n",
              "      <th>start station id</th>\n",
              "      <th>start station name</th>\n",
              "      <th>end station id</th>\n",
              "      <th>end station name</th>\n",
              "      <th>bikeid</th>\n",
              "      <th>usertype</th>\n",
              "      <th>birth year</th>\n",
              "      <th>gender</th>\n",
              "      <th>idx</th>\n",
              "      <th>age</th>\n",
              "      <th>day_type</th>\n",
              "      <th>time_slot</th>\n",
              "    </tr>\n",
              "  </thead>\n",
              "  <tbody>\n",
              "    <tr>\n",
              "      <th>144</th>\n",
              "      <td>2648</td>\n",
              "      <td>2020-12-01 10:09:56.562</td>\n",
              "      <td>2020-12-01 10:54:05.360</td>\n",
              "      <td>3199</td>\n",
              "      <td>Newport Pkwy</td>\n",
              "      <td>3199</td>\n",
              "      <td>Newport Pkwy</td>\n",
              "      <td>47252</td>\n",
              "      <td>Customer</td>\n",
              "      <td>1969</td>\n",
              "      <td>0</td>\n",
              "      <td>145</td>\n",
              "      <td>52</td>\n",
              "      <td>0</td>\n",
              "      <td>1</td>\n",
              "    </tr>\n",
              "    <tr>\n",
              "      <th>146</th>\n",
              "      <td>2574</td>\n",
              "      <td>2020-12-01 10:11:11.321</td>\n",
              "      <td>2020-12-01 10:54:05.933</td>\n",
              "      <td>3199</td>\n",
              "      <td>Newport Pkwy</td>\n",
              "      <td>3199</td>\n",
              "      <td>Newport Pkwy</td>\n",
              "      <td>26989</td>\n",
              "      <td>Customer</td>\n",
              "      <td>1969</td>\n",
              "      <td>0</td>\n",
              "      <td>147</td>\n",
              "      <td>52</td>\n",
              "      <td>0</td>\n",
              "      <td>1</td>\n",
              "    </tr>\n",
              "    <tr>\n",
              "      <th>151</th>\n",
              "      <td>1231</td>\n",
              "      <td>2020-12-01 10:19:56.769</td>\n",
              "      <td>2020-12-01 10:40:28.497</td>\n",
              "      <td>3199</td>\n",
              "      <td>Newport Pkwy</td>\n",
              "      <td>3199</td>\n",
              "      <td>Newport Pkwy</td>\n",
              "      <td>42494</td>\n",
              "      <td>Subscriber</td>\n",
              "      <td>1981</td>\n",
              "      <td>1</td>\n",
              "      <td>152</td>\n",
              "      <td>40</td>\n",
              "      <td>0</td>\n",
              "      <td>1</td>\n",
              "    </tr>\n",
              "    <tr>\n",
              "      <th>395</th>\n",
              "      <td>1816</td>\n",
              "      <td>2020-12-01 16:35:40.975</td>\n",
              "      <td>2020-12-01 17:05:57.759</td>\n",
              "      <td>3199</td>\n",
              "      <td>Newport Pkwy</td>\n",
              "      <td>3199</td>\n",
              "      <td>Newport Pkwy</td>\n",
              "      <td>42452</td>\n",
              "      <td>Subscriber</td>\n",
              "      <td>1958</td>\n",
              "      <td>1</td>\n",
              "      <td>396</td>\n",
              "      <td>63</td>\n",
              "      <td>0</td>\n",
              "      <td>1</td>\n",
              "    </tr>\n",
              "    <tr>\n",
              "      <th>415</th>\n",
              "      <td>1110</td>\n",
              "      <td>2020-12-01 17:08:30.624</td>\n",
              "      <td>2020-12-01 17:27:01.092</td>\n",
              "      <td>3199</td>\n",
              "      <td>Newport Pkwy</td>\n",
              "      <td>3199</td>\n",
              "      <td>Newport Pkwy</td>\n",
              "      <td>45358</td>\n",
              "      <td>Customer</td>\n",
              "      <td>1988</td>\n",
              "      <td>2</td>\n",
              "      <td>416</td>\n",
              "      <td>33</td>\n",
              "      <td>0</td>\n",
              "      <td>1</td>\n",
              "    </tr>\n",
              "    <tr>\n",
              "      <th>...</th>\n",
              "      <td>...</td>\n",
              "      <td>...</td>\n",
              "      <td>...</td>\n",
              "      <td>...</td>\n",
              "      <td>...</td>\n",
              "      <td>...</td>\n",
              "      <td>...</td>\n",
              "      <td>...</td>\n",
              "      <td>...</td>\n",
              "      <td>...</td>\n",
              "      <td>...</td>\n",
              "      <td>...</td>\n",
              "      <td>...</td>\n",
              "      <td>...</td>\n",
              "      <td>...</td>\n",
              "    </tr>\n",
              "    <tr>\n",
              "      <th>11514</th>\n",
              "      <td>2198</td>\n",
              "      <td>2020-12-31 14:45:37.756</td>\n",
              "      <td>2020-12-31 15:22:16.674</td>\n",
              "      <td>3199</td>\n",
              "      <td>Newport Pkwy</td>\n",
              "      <td>3199</td>\n",
              "      <td>Newport Pkwy</td>\n",
              "      <td>48739</td>\n",
              "      <td>Subscriber</td>\n",
              "      <td>1975</td>\n",
              "      <td>1</td>\n",
              "      <td>11515</td>\n",
              "      <td>46</td>\n",
              "      <td>0</td>\n",
              "      <td>1</td>\n",
              "    </tr>\n",
              "    <tr>\n",
              "      <th>11616</th>\n",
              "      <td>2129</td>\n",
              "      <td>2020-12-31 17:37:16.837</td>\n",
              "      <td>2020-12-31 18:12:46.534</td>\n",
              "      <td>3199</td>\n",
              "      <td>Newport Pkwy</td>\n",
              "      <td>3199</td>\n",
              "      <td>Newport Pkwy</td>\n",
              "      <td>46340</td>\n",
              "      <td>Subscriber</td>\n",
              "      <td>1959</td>\n",
              "      <td>1</td>\n",
              "      <td>11617</td>\n",
              "      <td>62</td>\n",
              "      <td>0</td>\n",
              "      <td>1</td>\n",
              "    </tr>\n",
              "    <tr>\n",
              "      <th>11628</th>\n",
              "      <td>2734</td>\n",
              "      <td>2020-12-31 17:48:43.511</td>\n",
              "      <td>2020-12-31 18:34:18.022</td>\n",
              "      <td>3199</td>\n",
              "      <td>Newport Pkwy</td>\n",
              "      <td>3199</td>\n",
              "      <td>Newport Pkwy</td>\n",
              "      <td>42614</td>\n",
              "      <td>Customer</td>\n",
              "      <td>1988</td>\n",
              "      <td>2</td>\n",
              "      <td>11629</td>\n",
              "      <td>33</td>\n",
              "      <td>0</td>\n",
              "      <td>1</td>\n",
              "    </tr>\n",
              "    <tr>\n",
              "      <th>11644</th>\n",
              "      <td>1226</td>\n",
              "      <td>2020-12-31 18:52:31.536</td>\n",
              "      <td>2020-12-31 19:12:58.330</td>\n",
              "      <td>3199</td>\n",
              "      <td>Newport Pkwy</td>\n",
              "      <td>3199</td>\n",
              "      <td>Newport Pkwy</td>\n",
              "      <td>42614</td>\n",
              "      <td>Subscriber</td>\n",
              "      <td>1986</td>\n",
              "      <td>1</td>\n",
              "      <td>11645</td>\n",
              "      <td>35</td>\n",
              "      <td>0</td>\n",
              "      <td>1</td>\n",
              "    </tr>\n",
              "    <tr>\n",
              "      <th>11689</th>\n",
              "      <td>1750</td>\n",
              "      <td>2020-12-31 23:07:44.003</td>\n",
              "      <td>2020-12-31 23:36:54.471</td>\n",
              "      <td>3199</td>\n",
              "      <td>Newport Pkwy</td>\n",
              "      <td>3199</td>\n",
              "      <td>Newport Pkwy</td>\n",
              "      <td>40440</td>\n",
              "      <td>Customer</td>\n",
              "      <td>1969</td>\n",
              "      <td>0</td>\n",
              "      <td>11690</td>\n",
              "      <td>52</td>\n",
              "      <td>0</td>\n",
              "      <td>0</td>\n",
              "    </tr>\n",
              "  </tbody>\n",
              "</table>\n",
              "<p>140 rows × 15 columns</p>\n",
              "</div>"
            ],
            "text/plain": [
              "       tripduration               starttime  ... day_type  time_slot\n",
              "144            2648 2020-12-01 10:09:56.562  ...        0          1\n",
              "146            2574 2020-12-01 10:11:11.321  ...        0          1\n",
              "151            1231 2020-12-01 10:19:56.769  ...        0          1\n",
              "395            1816 2020-12-01 16:35:40.975  ...        0          1\n",
              "415            1110 2020-12-01 17:08:30.624  ...        0          1\n",
              "...             ...                     ...  ...      ...        ...\n",
              "11514          2198 2020-12-31 14:45:37.756  ...        0          1\n",
              "11616          2129 2020-12-31 17:37:16.837  ...        0          1\n",
              "11628          2734 2020-12-31 17:48:43.511  ...        0          1\n",
              "11644          1226 2020-12-31 18:52:31.536  ...        0          1\n",
              "11689          1750 2020-12-31 23:07:44.003  ...        0          0\n",
              "\n",
              "[140 rows x 15 columns]"
            ]
          },
          "metadata": {
            "tags": []
          },
          "execution_count": 54
        }
      ]
    },
    {
      "cell_type": "code",
      "metadata": {
        "colab": {
          "base_uri": "https://localhost:8080/"
        },
        "id": "gvWr12stqFJv",
        "outputId": "c6b62370-5b36-4651-b1eb-0d342d6bb056"
      },
      "source": [
        "len(df.loc[(df['starttime'] >= '2020-12-13') & (df['stoptime'] < '2020-12-14')])"
      ],
      "execution_count": 55,
      "outputs": [
        {
          "output_type": "execute_result",
          "data": {
            "text/plain": [
              "777"
            ]
          },
          "metadata": {
            "tags": []
          },
          "execution_count": 55
        }
      ]
    },
    {
      "cell_type": "markdown",
      "metadata": {
        "id": "uBYUss-Mv0cJ"
      },
      "source": [
        "# **How many times has a given Bike been used in the Month ?**"
      ]
    },
    {
      "cell_type": "code",
      "metadata": {
        "colab": {
          "base_uri": "https://localhost:8080/"
        },
        "id": "Etew59XFFIO8",
        "outputId": "0ecad4f5-75a2-47cc-f2e6-0700d2d2708e"
      },
      "source": [
        "bikeid = int(input(\"Enter the bike ID: \"))\n",
        "print(len(df.loc[(df['bikeid']== bikeid) , :]))\n",
        "details = input(\"Do you want details of where and when the bike was used? (yes/no)\")\n",
        "if details.lower() == \"yes\":\n",
        "  print(df.loc[(df['bikeid']== bikeid) , :])\n",
        "print(\"Process Over\")\n"
      ],
      "execution_count": 53,
      "outputs": [
        {
          "output_type": "stream",
          "text": [
            "Enter the bike ID: 38449\n",
            "55\n",
            "Do you want details of where and when the bike was used? (yes/no)no\n",
            "Process Over\n"
          ],
          "name": "stdout"
        }
      ]
    },
    {
      "cell_type": "markdown",
      "metadata": {
        "id": "N-6D4L2nFKWL"
      },
      "source": [
        "# **Calculate the percentage of Subscription Users**"
      ]
    },
    {
      "cell_type": "code",
      "metadata": {
        "colab": {
          "base_uri": "https://localhost:8080/"
        },
        "id": "aGOzBPQy6Zgb",
        "outputId": "39515df7-ce05-469e-c9a1-b333b53354a8"
      },
      "source": [
        "sub_users = len(df.loc[df['usertype']==\"Subscriber\", :])\n",
        "cus_users = len(df.loc[df['usertype']==\"Customer\", :])\n",
        "all_users = len(df)\n",
        "sub_users_percentage = sub_users/all_users * 100\n",
        "cus_users_percentage = cus_users/all_users * 100\n",
        "print(\"Percentage of Subscription users for December 2020 are {} %\".format(sub_users_percentage))\n",
        "print(\"Percentage of Customer users for December 2020 are {} %\".format(cus_users_percentage))"
      ],
      "execution_count": null,
      "outputs": [
        {
          "output_type": "stream",
          "text": [
            "Percentage of Subscription users for December 2020 are 80.41730802120746 %\n",
            "Percentage of Customer users for December 2020 are 19.582691978792543 %\n"
          ],
          "name": "stdout"
        }
      ]
    },
    {
      "cell_type": "markdown",
      "metadata": {
        "id": "azEG1grPAxe8"
      },
      "source": [
        "**Customers are 24-hour pass or 3-day pass users** <br>\n",
        "**Subscribers are Annual Members**\n",
        " 1. ***Subscription users are 4 times that of customer users***\n",
        " \n",
        "\n",
        "\n"
      ]
    },
    {
      "cell_type": "markdown",
      "metadata": {
        "id": "XPnbYPii5yKL"
      },
      "source": [
        "# **Calculate the percentage of Male and Female Users for CitiBike**"
      ]
    },
    {
      "cell_type": "code",
      "metadata": {
        "colab": {
          "base_uri": "https://localhost:8080/"
        },
        "id": "uAIvYe1d5yKW",
        "outputId": "2fccbc40-f4b2-41b1-bb59-78eee0d7541f"
      },
      "source": [
        "male_users = len(df.loc[df['gender']== 1, :])\n",
        "female_users = len(df.loc[df['gender']== 2, :])\n",
        "unknown_users = len(df.loc[df['gender']== 3, :])\n",
        "all_users = len(df)\n",
        "male_users_percentage = male_users/all_users * 100\n",
        "female_users_percentage = female_users/all_users * 100\n",
        "unknown_users_percentage = unknown_users/all_users * 100\n",
        "print(\"Percentage of Male users for December 2020 are {} %\".format(male_users_percentage))\n",
        "print(\"Percentage of Female users for December 2020 are {} %\".format(female_users_percentage))\n",
        "print(\"Percentage of Unknown users for December 2020 are {} %\".format(unknown_users_percentage))"
      ],
      "execution_count": null,
      "outputs": [
        {
          "output_type": "stream",
          "text": [
            "Percentage of Male users for December 2020 are 66.4015734564734 %\n",
            "Percentage of Female users for December 2020 are 21.959979476654695 %\n",
            "Percentage of Unknown users for December 2020 are 0.0 %\n"
          ],
          "name": "stdout"
        }
      ]
    },
    {
      "cell_type": "code",
      "metadata": {
        "colab": {
          "base_uri": "https://localhost:8080/"
        },
        "id": "EHr1pwIG8566",
        "outputId": "fad2bd54-45a2-4344-9fce-09249584a47b"
      },
      "source": [
        "male_and_subscribers = len(df.loc[(df['gender'] == 1) & (df['usertype']== \"Subscriber\") , :])\n",
        "female_and_subscribers = len(df.loc[(df['gender'] == 2) & (df['usertype']== \"Subscriber\") , :])\n",
        "male_and_customers = len(df.loc[(df['gender'] == 1) & (df['usertype']== \"Customer\") , :])\n",
        "female_and_customers = len(df.loc[(df['gender'] == 2) & (df['usertype']== \"Customer\") , :])\n",
        "\n",
        "print(\"MS: {}, FS: {}, MC: {}, FC: {}\".format(male_and_subscribers, male_and_customers, female_and_subscribers ,female_and_customers))"
      ],
      "execution_count": null,
      "outputs": [
        {
          "output_type": "stream",
          "text": [
            "MS: 7048, FS: 717, MC: 2233, FC: 335\n"
          ],
          "name": "stdout"
        }
      ]
    },
    {
      "cell_type": "markdown",
      "metadata": {
        "id": "FDrh-rPL8hEv"
      },
      "source": [
        " 1. ***The number of male users are almost three times that of Female Users***\n",
        " 2. ***Two thirds females are subscribers rather than customers***\n",
        " 3. ***Three Quarters males are subscribers rather than customers***\n",
        "\n"
      ]
    },
    {
      "cell_type": "markdown",
      "metadata": {
        "id": "UYPArqSCx_I3"
      },
      "source": [
        "# **Longest Trip Duration**\n",
        "is the most amount of time the bike has been used for a single time period. 574 Hours is way too long for the bike to be running without being docked at all, and there is a high likelihood that this datapoint might be an anomaly. This datapoint could be excluded from the analysis."
      ]
    },
    {
      "cell_type": "code",
      "metadata": {
        "colab": {
          "base_uri": "https://localhost:8080/"
        },
        "id": "Q6wEnkpE5Kea",
        "outputId": "b1c8780f-b3d1-488a-d880-3b48e737377d"
      },
      "source": [
        "df['tripduration'].max() / 3600\n"
      ],
      "execution_count": null,
      "outputs": [
        {
          "output_type": "execute_result",
          "data": {
            "text/plain": [
              "574.5972222222222"
            ]
          },
          "metadata": {
            "tags": []
          },
          "execution_count": 19
        }
      ]
    },
    {
      "cell_type": "markdown",
      "metadata": {
        "id": "UzG5JMD7zVVW"
      },
      "source": [
        "# **The Average Ride Duration:**\n",
        "The average trip lasted 14 minutes and 3\n",
        "seconds and covered 1.75 miles according to the December 2020 operating report. \n",
        "*Let's check the number of trips that had a duration, that is double of the average trip time apprx. 30 mins*"
      ]
    },
    {
      "cell_type": "code",
      "metadata": {
        "colab": {
          "base_uri": "https://localhost:8080/",
          "height": 419
        },
        "id": "xvIVC6hFyJlm",
        "outputId": "9db649a9-fd68-49be-875e-00d9a85ddc55"
      },
      "source": [
        "df.loc[df['tripduration'] > 1800, :]"
      ],
      "execution_count": null,
      "outputs": [
        {
          "output_type": "execute_result",
          "data": {
            "text/html": [
              "<div>\n",
              "<style scoped>\n",
              "    .dataframe tbody tr th:only-of-type {\n",
              "        vertical-align: middle;\n",
              "    }\n",
              "\n",
              "    .dataframe tbody tr th {\n",
              "        vertical-align: top;\n",
              "    }\n",
              "\n",
              "    .dataframe thead th {\n",
              "        text-align: right;\n",
              "    }\n",
              "</style>\n",
              "<table border=\"1\" class=\"dataframe\">\n",
              "  <thead>\n",
              "    <tr style=\"text-align: right;\">\n",
              "      <th></th>\n",
              "      <th>tripduration</th>\n",
              "      <th>starttime</th>\n",
              "      <th>stoptime</th>\n",
              "      <th>start station id</th>\n",
              "      <th>start station name</th>\n",
              "      <th>end station id</th>\n",
              "      <th>end station name</th>\n",
              "      <th>bikeid</th>\n",
              "      <th>usertype</th>\n",
              "      <th>birth year</th>\n",
              "      <th>gender</th>\n",
              "    </tr>\n",
              "  </thead>\n",
              "  <tbody>\n",
              "    <tr>\n",
              "      <th>6</th>\n",
              "      <td>4990</td>\n",
              "      <td>2020-12-01 03:56:44.9650</td>\n",
              "      <td>2020-12-01 05:19:55.2110</td>\n",
              "      <td>3184</td>\n",
              "      <td>Paulus Hook</td>\n",
              "      <td>3792</td>\n",
              "      <td>Columbus Dr at Exchange Pl</td>\n",
              "      <td>45347</td>\n",
              "      <td>Customer</td>\n",
              "      <td>1996</td>\n",
              "      <td>2</td>\n",
              "    </tr>\n",
              "    <tr>\n",
              "      <th>7</th>\n",
              "      <td>4947</td>\n",
              "      <td>2020-12-01 03:57:31.4190</td>\n",
              "      <td>2020-12-01 05:19:58.8350</td>\n",
              "      <td>3184</td>\n",
              "      <td>Paulus Hook</td>\n",
              "      <td>3792</td>\n",
              "      <td>Columbus Dr at Exchange Pl</td>\n",
              "      <td>44555</td>\n",
              "      <td>Customer</td>\n",
              "      <td>2000</td>\n",
              "      <td>1</td>\n",
              "    </tr>\n",
              "    <tr>\n",
              "      <th>80</th>\n",
              "      <td>17454</td>\n",
              "      <td>2020-12-01 08:10:54.5190</td>\n",
              "      <td>2020-12-01 13:01:49.1750</td>\n",
              "      <td>3278</td>\n",
              "      <td>Monmouth and 6th</td>\n",
              "      <td>3278</td>\n",
              "      <td>Monmouth and 6th</td>\n",
              "      <td>18851</td>\n",
              "      <td>Subscriber</td>\n",
              "      <td>1975</td>\n",
              "      <td>2</td>\n",
              "    </tr>\n",
              "    <tr>\n",
              "      <th>106</th>\n",
              "      <td>3900</td>\n",
              "      <td>2020-12-01 09:03:48.4400</td>\n",
              "      <td>2020-12-01 10:08:49.2930</td>\n",
              "      <td>3203</td>\n",
              "      <td>Hamilton Park</td>\n",
              "      <td>3270</td>\n",
              "      <td>Jersey &amp; 6th St</td>\n",
              "      <td>40517</td>\n",
              "      <td>Subscriber</td>\n",
              "      <td>1988</td>\n",
              "      <td>1</td>\n",
              "    </tr>\n",
              "    <tr>\n",
              "      <th>112</th>\n",
              "      <td>2655</td>\n",
              "      <td>2020-12-01 09:10:20.9020</td>\n",
              "      <td>2020-12-01 09:54:36.8980</td>\n",
              "      <td>3272</td>\n",
              "      <td>Jersey &amp; 3rd</td>\n",
              "      <td>3206</td>\n",
              "      <td>Hilltop</td>\n",
              "      <td>45355</td>\n",
              "      <td>Subscriber</td>\n",
              "      <td>1984</td>\n",
              "      <td>1</td>\n",
              "    </tr>\n",
              "    <tr>\n",
              "      <th>...</th>\n",
              "      <td>...</td>\n",
              "      <td>...</td>\n",
              "      <td>...</td>\n",
              "      <td>...</td>\n",
              "      <td>...</td>\n",
              "      <td>...</td>\n",
              "      <td>...</td>\n",
              "      <td>...</td>\n",
              "      <td>...</td>\n",
              "      <td>...</td>\n",
              "      <td>...</td>\n",
              "    </tr>\n",
              "    <tr>\n",
              "      <th>11624</th>\n",
              "      <td>1914</td>\n",
              "      <td>2020-12-31 17:44:38.3590</td>\n",
              "      <td>2020-12-31 18:16:33.1380</td>\n",
              "      <td>3199</td>\n",
              "      <td>Newport Pkwy</td>\n",
              "      <td>3639</td>\n",
              "      <td>Harborside</td>\n",
              "      <td>39240</td>\n",
              "      <td>Customer</td>\n",
              "      <td>1989</td>\n",
              "      <td>2</td>\n",
              "    </tr>\n",
              "    <tr>\n",
              "      <th>11628</th>\n",
              "      <td>2734</td>\n",
              "      <td>2020-12-31 17:48:43.5110</td>\n",
              "      <td>2020-12-31 18:34:18.0220</td>\n",
              "      <td>3199</td>\n",
              "      <td>Newport Pkwy</td>\n",
              "      <td>3199</td>\n",
              "      <td>Newport Pkwy</td>\n",
              "      <td>42614</td>\n",
              "      <td>Customer</td>\n",
              "      <td>1988</td>\n",
              "      <td>2</td>\n",
              "    </tr>\n",
              "    <tr>\n",
              "      <th>11641</th>\n",
              "      <td>2021</td>\n",
              "      <td>2020-12-31 18:34:44.5650</td>\n",
              "      <td>2020-12-31 19:08:26.2010</td>\n",
              "      <td>3187</td>\n",
              "      <td>Warren St</td>\n",
              "      <td>3677</td>\n",
              "      <td>Glenwood Ave</td>\n",
              "      <td>46340</td>\n",
              "      <td>Subscriber</td>\n",
              "      <td>1959</td>\n",
              "      <td>1</td>\n",
              "    </tr>\n",
              "    <tr>\n",
              "      <th>11655</th>\n",
              "      <td>2762</td>\n",
              "      <td>2020-12-31 19:34:51.4760</td>\n",
              "      <td>2020-12-31 20:20:54.0940</td>\n",
              "      <td>3267</td>\n",
              "      <td>Morris Canal</td>\n",
              "      <td>3276</td>\n",
              "      <td>Marin Light Rail</td>\n",
              "      <td>42157</td>\n",
              "      <td>Subscriber</td>\n",
              "      <td>1960</td>\n",
              "      <td>1</td>\n",
              "    </tr>\n",
              "    <tr>\n",
              "      <th>11659</th>\n",
              "      <td>2372</td>\n",
              "      <td>2020-12-31 19:47:53.7000</td>\n",
              "      <td>2020-12-31 20:27:26.2230</td>\n",
              "      <td>3275</td>\n",
              "      <td>Columbus Drive</td>\n",
              "      <td>3791</td>\n",
              "      <td>Hoboken Ave at Monmouth St</td>\n",
              "      <td>40549</td>\n",
              "      <td>Subscriber</td>\n",
              "      <td>1985</td>\n",
              "      <td>1</td>\n",
              "    </tr>\n",
              "  </tbody>\n",
              "</table>\n",
              "<p>1112 rows × 11 columns</p>\n",
              "</div>"
            ],
            "text/plain": [
              "       tripduration                 starttime  ... birth year  gender\n",
              "6              4990  2020-12-01 03:56:44.9650  ...       1996       2\n",
              "7              4947  2020-12-01 03:57:31.4190  ...       2000       1\n",
              "80            17454  2020-12-01 08:10:54.5190  ...       1975       2\n",
              "106            3900  2020-12-01 09:03:48.4400  ...       1988       1\n",
              "112            2655  2020-12-01 09:10:20.9020  ...       1984       1\n",
              "...             ...                       ...  ...        ...     ...\n",
              "11624          1914  2020-12-31 17:44:38.3590  ...       1989       2\n",
              "11628          2734  2020-12-31 17:48:43.5110  ...       1988       2\n",
              "11641          2021  2020-12-31 18:34:44.5650  ...       1959       1\n",
              "11655          2762  2020-12-31 19:34:51.4760  ...       1960       1\n",
              "11659          2372  2020-12-31 19:47:53.7000  ...       1985       1\n",
              "\n",
              "[1112 rows x 11 columns]"
            ]
          },
          "metadata": {
            "tags": []
          },
          "execution_count": 21
        }
      ]
    },
    {
      "cell_type": "markdown",
      "metadata": {
        "id": "kTM6UyWC5PGL"
      },
      "source": [
        "# **Checking the Number of unique Start Stations, End Stations, and Bikes available**"
      ]
    },
    {
      "cell_type": "code",
      "metadata": {
        "colab": {
          "base_uri": "https://localhost:8080/"
        },
        "id": "uz6FBp4qSUYX",
        "outputId": "3b12e088-924c-4aa7-8ef7-36ec59f78a2a"
      },
      "source": [
        "for i in df.columns:\n",
        "  n = df[i].nunique()\n",
        "  print(\"{} has {} unique values\".format(i, n))"
      ],
      "execution_count": 57,
      "outputs": [
        {
          "output_type": "stream",
          "text": [
            "tripduration has 2477 unique values\n",
            "starttime has 11694 unique values\n",
            "stoptime has 11694 unique values\n",
            "start station id has 51 unique values\n",
            "start station name has 51 unique values\n",
            "start station latitude has 51 unique values\n",
            "start station longitude has 51 unique values\n",
            "end station id has 58 unique values\n",
            "end station name has 58 unique values\n",
            "end station latitude has 58 unique values\n",
            "end station longitude has 58 unique values\n",
            "bikeid has 576 unique values\n",
            "usertype has 2 unique values\n",
            "birth year has 56 unique values\n",
            "gender has 3 unique values\n",
            "time_slot has 3 unique values\n",
            "day_type has 2 unique values\n",
            "age has 56 unique values\n",
            "td_minutes has 2477 unique values\n",
            "td_hours has 240 unique values\n"
          ],
          "name": "stdout"
        }
      ]
    },
    {
      "cell_type": "markdown",
      "metadata": {
        "id": "JTwz9y103eZu"
      },
      "source": [
        "**Extras**"
      ]
    },
    {
      "cell_type": "code",
      "metadata": {
        "colab": {
          "base_uri": "https://localhost:8080/",
          "height": 419
        },
        "id": "-Vv6GmMwn9xv",
        "outputId": "df931851-05e9-45b4-8488-4c96f374fa3c"
      },
      "source": [
        "df.loc[df['gender']== 2]"
      ],
      "execution_count": null,
      "outputs": [
        {
          "output_type": "execute_result",
          "data": {
            "text/html": [
              "<div>\n",
              "<style scoped>\n",
              "    .dataframe tbody tr th:only-of-type {\n",
              "        vertical-align: middle;\n",
              "    }\n",
              "\n",
              "    .dataframe tbody tr th {\n",
              "        vertical-align: top;\n",
              "    }\n",
              "\n",
              "    .dataframe thead th {\n",
              "        text-align: right;\n",
              "    }\n",
              "</style>\n",
              "<table border=\"1\" class=\"dataframe\">\n",
              "  <thead>\n",
              "    <tr style=\"text-align: right;\">\n",
              "      <th></th>\n",
              "      <th>tripduration</th>\n",
              "      <th>starttime</th>\n",
              "      <th>stoptime</th>\n",
              "      <th>start station id</th>\n",
              "      <th>start station name</th>\n",
              "      <th>end station id</th>\n",
              "      <th>end station name</th>\n",
              "      <th>bikeid</th>\n",
              "      <th>usertype</th>\n",
              "      <th>birth year</th>\n",
              "      <th>gender</th>\n",
              "    </tr>\n",
              "  </thead>\n",
              "  <tbody>\n",
              "    <tr>\n",
              "      <th>0</th>\n",
              "      <td>146</td>\n",
              "      <td>2020-12-01 00:02:50.1450</td>\n",
              "      <td>2020-12-01 00:05:16.1940</td>\n",
              "      <td>3202</td>\n",
              "      <td>Newport PATH</td>\n",
              "      <td>3199</td>\n",
              "      <td>Newport Pkwy</td>\n",
              "      <td>42308</td>\n",
              "      <td>Subscriber</td>\n",
              "      <td>1989</td>\n",
              "      <td>2</td>\n",
              "    </tr>\n",
              "    <tr>\n",
              "      <th>1</th>\n",
              "      <td>572</td>\n",
              "      <td>2020-12-01 00:11:57.3910</td>\n",
              "      <td>2020-12-01 00:21:30.2510</td>\n",
              "      <td>3640</td>\n",
              "      <td>Journal Square</td>\n",
              "      <td>3280</td>\n",
              "      <td>Astor Place</td>\n",
              "      <td>18568</td>\n",
              "      <td>Subscriber</td>\n",
              "      <td>1997</td>\n",
              "      <td>2</td>\n",
              "    </tr>\n",
              "    <tr>\n",
              "      <th>6</th>\n",
              "      <td>4990</td>\n",
              "      <td>2020-12-01 03:56:44.9650</td>\n",
              "      <td>2020-12-01 05:19:55.2110</td>\n",
              "      <td>3184</td>\n",
              "      <td>Paulus Hook</td>\n",
              "      <td>3792</td>\n",
              "      <td>Columbus Dr at Exchange Pl</td>\n",
              "      <td>45347</td>\n",
              "      <td>Customer</td>\n",
              "      <td>1996</td>\n",
              "      <td>2</td>\n",
              "    </tr>\n",
              "    <tr>\n",
              "      <th>16</th>\n",
              "      <td>239</td>\n",
              "      <td>2020-12-01 05:57:03.0350</td>\n",
              "      <td>2020-12-01 06:01:02.9510</td>\n",
              "      <td>3194</td>\n",
              "      <td>McGinley Square</td>\n",
              "      <td>3195</td>\n",
              "      <td>Sip Ave</td>\n",
              "      <td>14639</td>\n",
              "      <td>Subscriber</td>\n",
              "      <td>1983</td>\n",
              "      <td>2</td>\n",
              "    </tr>\n",
              "    <tr>\n",
              "      <th>20</th>\n",
              "      <td>373</td>\n",
              "      <td>2020-12-01 06:14:56.9720</td>\n",
              "      <td>2020-12-01 06:21:10.9700</td>\n",
              "      <td>3199</td>\n",
              "      <td>Newport Pkwy</td>\n",
              "      <td>3187</td>\n",
              "      <td>Warren St</td>\n",
              "      <td>42308</td>\n",
              "      <td>Subscriber</td>\n",
              "      <td>1985</td>\n",
              "      <td>2</td>\n",
              "    </tr>\n",
              "    <tr>\n",
              "      <th>...</th>\n",
              "      <td>...</td>\n",
              "      <td>...</td>\n",
              "      <td>...</td>\n",
              "      <td>...</td>\n",
              "      <td>...</td>\n",
              "      <td>...</td>\n",
              "      <td>...</td>\n",
              "      <td>...</td>\n",
              "      <td>...</td>\n",
              "      <td>...</td>\n",
              "      <td>...</td>\n",
              "    </tr>\n",
              "    <tr>\n",
              "      <th>11669</th>\n",
              "      <td>417</td>\n",
              "      <td>2020-12-31 20:29:35.5620</td>\n",
              "      <td>2020-12-31 20:36:33.4700</td>\n",
              "      <td>3276</td>\n",
              "      <td>Marin Light Rail</td>\n",
              "      <td>3638</td>\n",
              "      <td>Washington St</td>\n",
              "      <td>42358</td>\n",
              "      <td>Subscriber</td>\n",
              "      <td>1990</td>\n",
              "      <td>2</td>\n",
              "    </tr>\n",
              "    <tr>\n",
              "      <th>11673</th>\n",
              "      <td>526</td>\n",
              "      <td>2020-12-31 21:10:39.6390</td>\n",
              "      <td>2020-12-31 21:19:26.2310</td>\n",
              "      <td>3268</td>\n",
              "      <td>Lafayette Park</td>\n",
              "      <td>3185</td>\n",
              "      <td>City Hall</td>\n",
              "      <td>42810</td>\n",
              "      <td>Subscriber</td>\n",
              "      <td>1986</td>\n",
              "      <td>2</td>\n",
              "    </tr>\n",
              "    <tr>\n",
              "      <th>11676</th>\n",
              "      <td>645</td>\n",
              "      <td>2020-12-31 21:29:32.0630</td>\n",
              "      <td>2020-12-31 21:40:17.8360</td>\n",
              "      <td>3275</td>\n",
              "      <td>Columbus Drive</td>\n",
              "      <td>3199</td>\n",
              "      <td>Newport Pkwy</td>\n",
              "      <td>42495</td>\n",
              "      <td>Subscriber</td>\n",
              "      <td>1993</td>\n",
              "      <td>2</td>\n",
              "    </tr>\n",
              "    <tr>\n",
              "      <th>11678</th>\n",
              "      <td>326</td>\n",
              "      <td>2020-12-31 22:02:58.3490</td>\n",
              "      <td>2020-12-31 22:08:24.6100</td>\n",
              "      <td>3678</td>\n",
              "      <td>Fairmount Ave</td>\n",
              "      <td>3195</td>\n",
              "      <td>Sip Ave</td>\n",
              "      <td>40907</td>\n",
              "      <td>Subscriber</td>\n",
              "      <td>1994</td>\n",
              "      <td>2</td>\n",
              "    </tr>\n",
              "    <tr>\n",
              "      <th>11682</th>\n",
              "      <td>591</td>\n",
              "      <td>2020-12-31 22:10:54.8540</td>\n",
              "      <td>2020-12-31 22:20:46.1760</td>\n",
              "      <td>3276</td>\n",
              "      <td>Marin Light Rail</td>\n",
              "      <td>3638</td>\n",
              "      <td>Washington St</td>\n",
              "      <td>45256</td>\n",
              "      <td>Customer</td>\n",
              "      <td>1989</td>\n",
              "      <td>2</td>\n",
              "    </tr>\n",
              "  </tbody>\n",
              "</table>\n",
              "<p>2568 rows × 11 columns</p>\n",
              "</div>"
            ],
            "text/plain": [
              "       tripduration                 starttime  ... birth year  gender\n",
              "0               146  2020-12-01 00:02:50.1450  ...       1989       2\n",
              "1               572  2020-12-01 00:11:57.3910  ...       1997       2\n",
              "6              4990  2020-12-01 03:56:44.9650  ...       1996       2\n",
              "16              239  2020-12-01 05:57:03.0350  ...       1983       2\n",
              "20              373  2020-12-01 06:14:56.9720  ...       1985       2\n",
              "...             ...                       ...  ...        ...     ...\n",
              "11669           417  2020-12-31 20:29:35.5620  ...       1990       2\n",
              "11673           526  2020-12-31 21:10:39.6390  ...       1986       2\n",
              "11676           645  2020-12-31 21:29:32.0630  ...       1993       2\n",
              "11678           326  2020-12-31 22:02:58.3490  ...       1994       2\n",
              "11682           591  2020-12-31 22:10:54.8540  ...       1989       2\n",
              "\n",
              "[2568 rows x 11 columns]"
            ]
          },
          "metadata": {
            "tags": []
          },
          "execution_count": 29
        }
      ]
    }
  ]
}